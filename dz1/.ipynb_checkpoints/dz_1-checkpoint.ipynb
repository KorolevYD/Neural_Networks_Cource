{
 "cells": [
  {
   "cell_type": "code",
   "execution_count": 1,
   "id": "4ecc8c67-7dd9-4e72-98c3-800f1982c7c6",
   "metadata": {},
   "outputs": [],
   "source": [
    "import numpy as np\n",
    "import pandas as pd\n",
    "import matplotlib.pyplot as plt\n",
    "\n",
    "from sklearn.linear_model import LinearRegression\n",
    "from sklearn.model_selection import train_test_split\n",
    "from sklearn.metrics import r2_score\n",
    "from sklearn.preprocessing import MinMaxScaler\n",
    "\n",
    "%matplotlib inline"
   ]
  },
  {
   "cell_type": "code",
   "execution_count": 2,
   "id": "bd9cc8b1-a345-4fa2-82d5-b43c9c20b132",
   "metadata": {},
   "outputs": [],
   "source": [
    "\"\"\"\n",
    "ЗАДАЧА 1\n",
    "\"\"\"\n",
    "class LinearRegressorGD:\n",
    "    def __init__(self, learning_rate=0.01, n_iter=1000):\n",
    "        self.learning_rate = learning_rate\n",
    "        self.n_iter = n_iter\n",
    "        self.coefs = np.array([0.0])\n",
    "        self.bias = 0.0\n",
    "        \n",
    "        # параметры для регуляризации\n",
    "        self.penalty = \"l2\"\n",
    "        self.alpha = 0.001\n",
    "        pass\n",
    "\n",
    "    def get_penalty_grad(self):\n",
    "        if self.penalty == \"l2\":\n",
    "            return np.sum(self.coefs * self.alpha) * 2\n",
    "        elif self.penalty == \"l1\":\n",
    "            return np.sign(self.coefs) * self.alpha\n",
    "    \n",
    "\n",
    "    def fit(self, X, y):\n",
    "        samples = X.shape[0]\n",
    "        coef_old = np.mean(X, axis=0).reshape(-1, 1)\n",
    "        self.coefs = np.mean(X, axis=0).reshape(-1, 1)\n",
    "        iter = 0\n",
    "        while iter < self.n_iter:\n",
    "            iter += 1\n",
    "            Q_MSE = self.predict(X) - y\n",
    "            grad_coefs = (1 / samples) * np.dot(X.T, Q_MSE) #+ self.get_penalty_grad()\n",
    "            grad_bias = (1 / samples) * np.sum(Q_MSE) \n",
    "            \n",
    "            self.coefs -= self.learning_rate * grad_coefs\n",
    "            self.bias -= self.learning_rate * grad_bias\n",
    "        pass\n",
    "    \n",
    "    def predict(self, X):\n",
    "        return np.dot(X, self.coefs) + self.bias\n",
    "        pass\n",
    "\n",
    "    def get_params(self):\n",
    "        return self.coefs, self.bias\n",
    "        pass\n",
    "    "
   ]
  },
  {
   "cell_type": "code",
   "execution_count": 3,
   "id": "30fcfa8f-4c8a-42cb-9d48-999f0e28cd77",
   "metadata": {},
   "outputs": [],
   "source": [
    "\"\"\"\n",
    "Задача 2\n",
    "\"\"\"\n",
    "class MLPRegressor:\n",
    "    def __init__(self, hidden_layer_sizes=(100,), learning_rate=0.001, n_iter=1000):\n",
    "        self.hidden_layer_sizes = hidden_layer_sizes\n",
    "        self.learning_rate = learning_rate\n",
    "        self.n_iter = n_iter\n",
    "        self.layers = []\n",
    "        self.X_mean = None\n",
    "        self.X_std = None\n",
    "        self.y_mean = None\n",
    "        self.y_std = None\n",
    "        \n",
    "    def build_layers(self, input_size):\n",
    "        \n",
    "        for layer in range(len(self.hidden_layer_sizes)):\n",
    "            if(layer == 0):\n",
    "                self.layers.append(Layer(self.hidden_layer_sizes[0], input_size))\n",
    "            else:\n",
    "                self.layers.append(Layer(self.hidden_layer_sizes[layer], self.hidden_layer_sizes[layer-1]))\n",
    "                \n",
    "        self.layers.append(Layer(1, self.hidden_layer_sizes[-1]))\n",
    "\n",
    "        \n",
    "\n",
    "    def forward(self, X):\n",
    "        if (self.layers == []):\n",
    "            self.build_layers(X.shape[1])\n",
    "        \n",
    "        output = X\n",
    "        for i, layer in enumerate(self.layers):\n",
    "            if(i < len(self.layers) - 1):\n",
    "                activation_type = 1\n",
    "                output = layer.forward(output, activation_type)\n",
    "            else:\n",
    "                activation_type = 0\n",
    "                output = layer.forward(output, activation_type)\n",
    "\n",
    "        return output\n",
    "        pass\n",
    "\n",
    "    def backward(self, X, y):\n",
    "\n",
    "        predict = self.forward(X)\n",
    "        \n",
    "        Q_MSE = predict - y.reshape(-1, 1)\n",
    "        self.layers[-1].error = Q_MSE\n",
    "        self.layers[-1].delta = Q_MSE * 1.0  \n",
    "        \n",
    "        for i in reversed(range(len(self.layers) - 1)):\n",
    "            layer = self.layers[i]\n",
    "            next_layer = self.layers[i + 1]\n",
    "            \n",
    "            layer.error = np.dot(next_layer.delta, np.array([neuron.W[:-1] for neuron in next_layer.neurons]))\n",
    "            layer.delta = layer.error * np.array([neuron.sigmoid_derivative() for neuron in layer.neurons]).T\n",
    "        \n",
    "        for i, layer in enumerate(self.layers):\n",
    "            if i == 0:\n",
    "                inputs = X\n",
    "            else:\n",
    "                inputs = self.layers[i-1].output\n",
    "            \n",
    "            for j, neuron in enumerate(layer.neurons):\n",
    "                grad_w = np.dot(layer.delta[:, j], inputs)\n",
    "                grad_b = np.sum(layer.delta[:, j])\n",
    "                \n",
    "                max_grad_norm = 1.0\n",
    "                grad_norm = np.sqrt(np.sum(grad_w**2) + grad_b**2)\n",
    "                if grad_norm > max_grad_norm:\n",
    "                    scale = max_grad_norm / (grad_norm + 1e-10)\n",
    "                    grad_w *= scale\n",
    "                    grad_b *= scale\n",
    "\n",
    "                \n",
    "                neuron.W[:-1] -= self.learning_rate * grad_w\n",
    "                neuron.W[-1] -= self.learning_rate * grad_b\n",
    "        pass\n",
    "                \n",
    "    def normalize_data(self, X, y):\n",
    "        \n",
    "        self.X_mean = np.mean(X, axis=0)\n",
    "        self.X_std = np.std(X, axis=0)\n",
    "        \n",
    "        self.y_mean = np.mean(y)\n",
    "        self.y_std = np.std(y)\n",
    "        \n",
    "        X_norm = (X - self.X_mean) / self.X_std\n",
    "        y_norm = (y - self.y_mean) / self.y_std\n",
    "        \n",
    "        return X_norm, y_norm\n",
    "\n",
    "\n",
    "    def fit(self, X, y):\n",
    "        X_norm, y_norm = self.normalize_data(X, y)\n",
    "        if not self.layers:\n",
    "            self.build_layers(X.shape[1])\n",
    "        for iter in range(self.n_iter):\n",
    "            self.backward(X_norm, y_norm)\n",
    "\n",
    "        pass\n",
    "                \n",
    "\n",
    "\n",
    "    def predict(self, X):\n",
    "        \n",
    "        X = np.array(X, dtype=np.float64)\n",
    "        X_norm = (X - self.X_mean) / self.X_std\n",
    "        predict_norm = self.forward(X_norm)\n",
    "        return predict_norm * self.y_std + self.y_mean\n",
    "        \n",
    "        pass\n",
    "\n",
    "class Layer:\n",
    "    def __init__(self, num_neurons, input_size):\n",
    "        self.input_size = input_size\n",
    "        self.num_neurons = num_neurons\n",
    "        self.output = None\n",
    "        self.error = None\n",
    "        self.delta = None\n",
    "        self.neurons = [Neuron(input_size) for _ in range(num_neurons)]\n",
    "\n",
    "    def forward(self, X, activation_type):\n",
    "        outputs = []\n",
    "        for neuron in self.neurons:\n",
    "            outputs.append(neuron.activate(X, activation_type))\n",
    "        self.output = np.array(outputs).T\n",
    "        return self.output\n",
    "\n",
    "class Neuron:\n",
    "    def __init__(self, input_size):\n",
    "        self.input_size = input_size\n",
    "        self.W = np.random.randn(self.input_size + 1) * 0.1\n",
    "        self.output = None\n",
    "\n",
    "    def activate(self, X, activation_type):\n",
    "        z = np.dot(X, self.W[:-1]) + self.W[-1]\n",
    "        \n",
    "        if activation_type:  \n",
    "            self.output = 1 / (1 + np.exp(-z))\n",
    "        else:  \n",
    "            self.output = z\n",
    "            \n",
    "        return self.output\n",
    "\n",
    "    def sigmoid_derivative(self):\n",
    "        return self.output * (1 - self.output)\n",
    "\n",
    "    def linear_derivative(self):\n",
    "        return 1"
   ]
  },
  {
   "cell_type": "code",
   "execution_count": 4,
   "id": "d4f3e930-e583-4753-91df-250dda52493b",
   "metadata": {},
   "outputs": [],
   "source": [
    "diamonds_df = pd.read_csv('diamonds.csv')\n",
    "diamonds_df.head()\n",
    "features = ['carat', 'cut', 'color', 'clarity', 'depth', 'table', 'x', 'y', 'z']\n",
    "target = ['price']\n",
    "cut_transform = {'Fair': 0, 'Good': 1, 'Very Good': 2, 'Premium': 3, 'Ideal': 4}\n",
    "clarity_transform = {'I1': 0, 'SI2': 1, 'SI1': 2, 'VS2': 3, 'VS1': 4, 'VVS2': 5, 'VVS1': 6, 'IF': 7}\n",
    "color_transorm = {'D': 0, 'E': 1, 'F': 2, 'G': 3, 'H': 4, 'I': 5, 'J': 6}\n",
    "diamonds_df['cut'] = diamonds_df['cut'].apply(lambda x: cut_transform.get(x))\n",
    "diamonds_df['color'] = diamonds_df['color'].apply(lambda x: color_transorm.get(x))\n",
    "diamonds_df['clarity'] = diamonds_df['clarity'].apply(lambda x: clarity_transform.get(x))\n",
    "X = diamonds_df[features].copy().values\n",
    "y = diamonds_df[target].values\n",
    "X_train, X_test, y_train, y_test = train_test_split(X, y, random_state=47, test_size=0.3)\n",
    "scaler = MinMaxScaler()\n",
    "X_train = scaler.fit_transform(X_train)\n",
    "X_test = scaler.transform(X_test)"
   ]
  },
  {
   "cell_type": "code",
   "execution_count": 5,
   "id": "7a431ac6-99ce-4aea-a517-d6728ef08070",
   "metadata": {},
   "outputs": [],
   "source": [
    "reg = LinearRegression().fit(X_train, y_train)"
   ]
  },
  {
   "cell_type": "code",
   "execution_count": 6,
   "id": "b5fee2e8-c949-438a-be40-842c0e28e90f",
   "metadata": {},
   "outputs": [
    {
     "data": {
      "image/png": "[encoded data removed]",
      "text/plain": [
       "<Figure size 640x480 with 1 Axes>"
      ]
     },
     "metadata": {},
     "output_type": "display_data"
    }
   ],
   "source": [
    "y_pred = reg.predict(X_test)\n",
    "score = r2_score(y_pred, y_test)\n",
    "plt.title(f'R2: {str(score)[:5]}')\n",
    "plt.hist(y_pred.reshape(1, -1)[0], bins=100, label='PREDICTION')\n",
    "plt.hist(y_test.reshape(1, -1)[0], bins=100, label='GT')\n",
    "plt.legend()\n",
    "plt.grid();"
   ]
  },
  {
   "cell_type": "code",
   "execution_count": 7,
   "id": "dc5602d3-d66e-437d-b098-1a9d602b9ff5",
   "metadata": {},
   "outputs": [
    {
     "data": {
      "text/plain": [
       "'\\nЛИНЕЙНАЯ РЕГРЕССИЯ ТЕСТ\\n'"
      ]
     },
     "execution_count": 7,
     "metadata": {},
     "output_type": "execute_result"
    }
   ],
   "source": [
    "\"\"\"\n",
    "ЛИНЕЙНАЯ РЕГРЕССИЯ ТЕСТ\n",
    "\"\"\""
   ]
  },
  {
   "cell_type": "code",
   "execution_count": 8,
   "id": "163983fc-1750-4613-9832-4a357371fa1a",
   "metadata": {},
   "outputs": [],
   "source": [
    "regGD = LinearRegressorGD(learning_rate = 0.5, n_iter=1000)\n",
    "regGD.fit(X_train, y_train)"
   ]
  },
  {
   "cell_type": "code",
   "execution_count": 9,
   "id": "c6c3d91a-f255-406c-a784-dfdeed3971c0",
   "metadata": {},
   "outputs": [
    {
     "data": {
      "image/png": "[encoded data removed]",
      "text/plain": [
       "<Figure size 640x480 with 1 Axes>"
      ]
     },
     "metadata": {},
     "output_type": "display_data"
    }
   ],
   "source": [
    "y_pred = regGD.predict(X_test)\n",
    "score = r2_score(y_pred, y_test)\n",
    "plt.title(f'R2: {str(score)[:5]}')\n",
    "plt.hist(y_pred.reshape(1, -1)[0], bins=100, label='PREDICTION')\n",
    "plt.hist(y_test.reshape(1, -1)[0], bins=100, label='GT')\n",
    "plt.legend()\n",
    "plt.grid();"
   ]
  },
  {
   "cell_type": "code",
   "execution_count": 10,
   "id": "ede9391b-e326-492a-b409-56f6c4e76773",
   "metadata": {},
   "outputs": [
    {
     "data": {
      "text/plain": [
       "'\\nMLP ТЕСТ\\n'"
      ]
     },
     "execution_count": 10,
     "metadata": {},
     "output_type": "execute_result"
    }
   ],
   "source": [
    "\"\"\"\n",
    "MLP ТЕСТ\n",
    "\"\"\""
   ]
  },
  {
   "cell_type": "code",
   "execution_count": 11,
   "id": "b581721b-d39e-4cfb-a73f-c669b1881aaa",
   "metadata": {
    "scrolled": true
   },
   "outputs": [],
   "source": [
    "REG = MLPRegressor(hidden_layer_sizes=(50, 10), learning_rate = 0.1)"
   ]
  },
  {
   "cell_type": "code",
   "execution_count": 12,
   "id": "9483a2bf-6068-4ad0-be7d-5b01e909dfd6",
   "metadata": {},
   "outputs": [],
   "source": [
    "REG.fit(X_train, y_train)"
   ]
  },
  {
   "cell_type": "code",
   "execution_count": 13,
   "id": "f2897f17-478f-4a18-941b-abb6d29d5817",
   "metadata": {},
   "outputs": [
    {
     "data": {
      "image/png": "[encoded data removed]",
      "text/plain": [
       "<Figure size 640x480 with 1 Axes>"
      ]
     },
     "metadata": {},
     "output_type": "display_data"
    }
   ],
   "source": [
    "y_pred = REG.predict(X_test)\n",
    "score = r2_score(y_pred, y_test)\n",
    "plt.title(f'R2: {str(score)[:5]}')\n",
    "plt.hist(y_pred.reshape(1, -1)[0], bins=100, label='PREDICTION')\n",
    "plt.hist(y_test.reshape(1, -1)[0], bins=100, label='GT')\n",
    "plt.legend()\n",
    "plt.grid();"
   ]
  },
  {
   "cell_type": "code",
   "execution_count": null,
   "id": "7c033eff-5522-48b9-a09d-df94ee68da59",
   "metadata": {},
   "outputs": [],
   "source": []
  }
 ],
 "metadata": {
  "kernelspec": {
   "display_name": "Python 3 (ipykernel)",
   "language": "python",
   "name": "python3"
  },
  "language_info": {
   "codemirror_mode": {
    "name": "ipython",
    "version": 3
   },
   "file_extension": ".py",
   "mimetype": "text/x-python",
   "name": "python",
   "nbconvert_exporter": "python",
   "pygments_lexer": "ipython3",
   "version": "3.12.3"
  }
 },
 "nbformat": 4,
 "nbformat_minor": 5
}
